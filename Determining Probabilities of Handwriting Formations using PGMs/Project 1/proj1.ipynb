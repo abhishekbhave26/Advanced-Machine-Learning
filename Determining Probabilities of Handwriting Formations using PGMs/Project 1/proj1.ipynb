{
  "nbformat": 4,
  "nbformat_minor": 0,
  "metadata": {
    "colab": {
      "name": "proj1.ipynb",
      "version": "0.3.2",
      "provenance": [],
      "collapsed_sections": []
    },
    "kernelspec": {
      "name": "python2",
      "display_name": "Python 2"
    }
  },
  "cells": [
    {
      "metadata": {
        "id": "hDtu6lY5IlOr",
        "colab_type": "code",
        "outputId": "d2c8a302-d83a-4925-d31c-976d5e283092",
        "colab": {
          "base_uri": "https://localhost:8080/",
          "height": 343
        }
      },
      "cell_type": "code",
      "source": [
        "!pip install pgmpy\n"
      ],
      "execution_count": 1,
      "outputs": [
        {
          "output_type": "stream",
          "text": [
            "Collecting pgmpy\n",
            "\u001b[?25l  Downloading https://files.pythonhosted.org/packages/98/dc/2cde83edf1e3b52407c9a106446708c31b0380bb832d3e472c853f3dd069/pgmpy-0.1.7.tar.gz (219kB)\n",
            "\u001b[K    100% |████████████████████████████████| 225kB 7.0MB/s \n",
            "\u001b[?25hCollecting networkx<1.12,>=1.11 (from pgmpy)\n",
            "\u001b[?25l  Downloading https://files.pythonhosted.org/packages/d3/2c/e473e54afc9fae58dfa97066ef6709a7e35a1dd1c28c5a3842989322be00/networkx-1.11-py2.py3-none-any.whl (1.3MB)\n",
            "\u001b[K    100% |████████████████████████████████| 1.3MB 12.2MB/s \n",
            "\u001b[?25hRequirement already satisfied: scipy>=1.0.0 in /usr/local/lib/python2.7/dist-packages (from pgmpy) (1.1.0)\n",
            "Requirement already satisfied: numpy>=1.14.0 in /usr/local/lib/python2.7/dist-packages (from pgmpy) (1.14.6)\n",
            "Requirement already satisfied: decorator>=3.4.0 in /usr/local/lib/python2.7/dist-packages (from networkx<1.12,>=1.11->pgmpy) (4.3.2)\n",
            "Building wheels for collected packages: pgmpy\n",
            "  Building wheel for pgmpy (setup.py) ... \u001b[?25ldone\n",
            "\u001b[?25h  Stored in directory: /root/.cache/pip/wheels/27/d5/45/f9bd7e0f7d3752b706163ce2a0333d29855828c3e57a003640\n",
            "Successfully built pgmpy\n",
            "Installing collected packages: networkx, pgmpy\n",
            "  Found existing installation: networkx 2.2\n",
            "    Uninstalling networkx-2.2:\n",
            "      Successfully uninstalled networkx-2.2\n",
            "Successfully installed networkx-1.11 pgmpy-0.1.7\n"
          ],
          "name": "stdout"
        }
      ]
    },
    {
      "metadata": {
        "id": "wTynf6A9I10X",
        "colab_type": "code",
        "colab": {}
      },
      "cell_type": "code",
      "source": [
        "import numpy as np\n",
        "import pandas as pd\n",
        "import csv\n",
        "import re\n",
        "import time\n",
        "from time import time\n",
        "\n",
        "from pgmpy.models import BayesianModel\n",
        "from pgmpy.factors.discrete import TabularCPD\n",
        "from collections import defaultdict\n",
        "from pgmpy.inference import VariableElimination\n",
        "from pgmpy.estimators import HillClimbSearch\n",
        "from pgmpy.sampling import BayesianModelSampling\n",
        "from pgmpy.estimators import K2Score\n",
        "\n",
        "\n"
      ],
      "execution_count": 0,
      "outputs": []
    },
    {
      "metadata": {
        "id": "RT-3DjNpJMsV",
        "colab_type": "code",
        "colab": {}
      },
      "cell_type": "code",
      "source": [
        "\n",
        "def data_clean(df):\n",
        "    new=[]\n",
        "    for i, row in df.iterrows():\n",
        "        newrow=[]\n",
        "        for j, column in row.iteritems():\n",
        "            column=str(column)        \n",
        "            if(len(str(column))!=0):\n",
        "                x=re.sub(\"%.*$\", \"\", column)\n",
        "                if(len(x)<5):\n",
        "                    newrow.append(float(x)/100)\n",
        "        new.append(newrow)\n",
        "    df=pd.DataFrame(new)\n",
        "    return df\n",
        "\n",
        "#table read and cleaning\n",
        "mar=pd.read_csv('Table2.csv')\n",
        "mardf=data_clean(mar)\n",
        "\n",
        "df3=pd.read_csv('Table3.csv')\n",
        "df3=data_clean(df3)\n",
        "\n",
        "df4=pd.read_csv('Table4.csv')\n",
        "df4=data_clean(df4)\n",
        "\n",
        "df5=pd.read_csv('Table5.csv')\n",
        "df5=data_clean(df5)\n",
        "\n",
        "df6=pd.read_csv('Table6.csv')\n",
        "df6=data_clean(df6)\n",
        "\n",
        "df7=pd.read_csv('Table7.csv')\n",
        "df7=data_clean(df7)\n",
        "\n",
        "df8=pd.read_csv('Table8.csv')\n",
        "df8.iloc[6][5]=30.9\n",
        "df8=data_clean(df8)\n",
        "\n",
        "\n",
        "\n"
      ],
      "execution_count": 0,
      "outputs": []
    },
    {
      "metadata": {
        "id": "-86svJqdKfR2",
        "colab_type": "code",
        "colab": {}
      },
      "cell_type": "code",
      "source": [
        ""
      ],
      "execution_count": 0,
      "outputs": []
    },
    {
      "metadata": {
        "id": "Wv3FRyh6Kge_",
        "colab_type": "code",
        "colab": {}
      },
      "cell_type": "code",
      "source": [
        "def marginal(c1,c2):\n",
        "    y=np.outer(c1,c2)\n",
        "    mask = (np.nan_to_num(y) != 0).any(axis=1)\n",
        "    x=y[mask]\n",
        "    x=np.transpose(x) \n",
        "    mask = (np.nan_to_num(x) != 0).any(axis=1)\n",
        "    x=x[mask]\n",
        "    return x\n",
        "\n",
        "\n",
        "def conditional(cdf,a,b,x1,y1,g,h):\n",
        "    new=[]   \n",
        "    for i in range(0,len(cdf.columns)):\n",
        "        x=cdf[i][g:h]\n",
        "        mul=cdf[i][0]\n",
        "        x=x.multiply(mul)\n",
        "        new.append(x)\n",
        "    y=np.transpose(new)\n",
        "    y=np.array(y).reshape(a,b)\n",
        "    return y\n",
        "\n",
        "\n",
        "def createTable(new,df):\n",
        "    finalDF=pd.DataFrame()\n",
        "    \n",
        "    for i in range(0,len(new)):\n",
        "        x1,y1,g,h=new[i][0],new[i][1],new[i][2],new[i][3]\n",
        "        x1-=1\n",
        "        y1-=1\n",
        "        x=marginal(mardf[x1],mardf[y1])\n",
        "        a,b=x.shape\n",
        "        y=(conditional(df,a,b,x1,y1,g,h))\n",
        "        f,g=y.shape\n",
        "        sub=np.subtract(x,y)\n",
        "        a,b=sub.shape\n",
        "        nu=a*b\n",
        "        nums=np.transpose(sub)\n",
        "        x=np.abs(nums).reshape(nu,1)\n",
        "        x = pd.DataFrame.from_records(x)\n",
        "        finalDF=pd.concat([finalDF,x],axis=1)\n",
        "    return finalDF\n",
        "\n",
        "\n",
        "    "
      ],
      "execution_count": 0,
      "outputs": []
    },
    {
      "metadata": {
        "id": "zSNBglBIKlK8",
        "colab_type": "code",
        "colab": {}
      },
      "cell_type": "code",
      "source": [
        ""
      ],
      "execution_count": 0,
      "outputs": []
    },
    {
      "metadata": {
        "id": "NpmESG85Kmv3",
        "colab_type": "code",
        "outputId": "eaa6f54c-e3ac-42a8-f75b-dc8feeeec8c8",
        "colab": {
          "base_uri": "https://localhost:8080/",
          "height": 54
        }
      },
      "cell_type": "code",
      "source": [
        "finalDF = pd.DataFrame()\n",
        "new2=[3,4,5,6,7,8]\n",
        "\n",
        "l=[]\n",
        "\n",
        "for i in new2:\n",
        "    if(i==3):\n",
        "        new6=[[1,2,1,6],[1,4,6,10],[1,6,10,15]]\n",
        "        x3=createTable(new6,df3)\n",
        "        finalDF=pd.concat([finalDF,x3],axis=1)\n",
        "        #print(x3)\n",
        "        \n",
        "    if(i==4):\n",
        "        new6=[[2,3,1,4],[2,5,4,8]]\n",
        "        x4=createTable(new6,df4)\n",
        "        finalDF=pd.concat([finalDF,x4],axis=1)\n",
        "        #print(x4)\n",
        "        \n",
        "    if(i==5):\n",
        "        new6=[[3,2,1,6],[3,5,6,10],[3,6,10,15]]\n",
        "        x5=createTable(new6,df5)\n",
        "        finalDF=pd.concat([finalDF,x5],axis=1)\n",
        "        #print(x5)\n",
        "        \n",
        "    if(i==6):\n",
        "        new6=[[4,1,1,5],[4,2,5,10],[4,6,10,15]]\n",
        "        x6=createTable(new6,df6)\n",
        "        finalDF=pd.concat([finalDF,x6],axis=1)\n",
        "        #print(x6)\n",
        "        \n",
        "    if(i==7):\n",
        "        new6=[[5,2,1,6],[5,3,6,9]]\n",
        "        x7=createTable(new6,df7)\n",
        "        finalDF=pd.concat([finalDF,x7],axis=1)\n",
        "        #print(x7)\n",
        "        \n",
        "    if(i==8):\n",
        "        new6=[[6,1,1,5],[6,2,5,10],[6,3,10,13],[6,4,13,17]]\n",
        "        x8=createTable(new6,df8)\n",
        "        finalDF=pd.concat([finalDF,x8],axis=1)\n",
        "\n",
        "x=list(finalDF.sum(axis=0))\n",
        "d = {\"x2/x1\":x[0], \"x4/x1\":x[1], \"x6/x1\":x[2], \"x3/x2\":x[3],'x5/x2':x[4],'x2/x3':x[5],'x5/x3':x[6],'x6/x3':x[7]\n",
        "          ,'x1/x4':x[8],'x2/x4':x[9],'x6/x4':x[10],'x2/x5':x[11],'x3/x5':x[12],'x1/x6':x[13],'x2/x6':x[14],'x3/x6':x[15],'x4/x6':x[16]}\n",
        "new={}\n",
        "print(d)\n",
        "x.sort(reverse=True)\n",
        "result=[]\n",
        "\n",
        "for i in d.keys():\n",
        "    if(d[i]>0.12):\n",
        "        result.append(d[i])\n",
        "        new[i]=d[i]\n",
        "    \n",
        "#print(result)  \n",
        "#print(new)  "
      ],
      "execution_count": 8,
      "outputs": [
        {
          "output_type": "stream",
          "text": [
            "{'x2/x4': 0.11569999999999997, 'x6/x1': 0.16015500000000005, 'x2/x6': 0.17531500000000003, 'x6/x3': 0.11324000000000001, 'x6/x4': 0.14346999999999996, 'x2/x1': 0.15977, 'x5/x3': 0.11551999999999997, 'x5/x2': 0.12926000000000004, 'x4/x6': 0.14307000000000003, 'x2/x3': 0.21875800000000006, 'x1/x4': 0.11957000000000002, 'x4/x1': 0.11943000000000004, 'x3/x2': 0.21852500000000002, 'x2/x5': 0.8561449999999998, 'x3/x6': 0.13903000000000004, 'x3/x5': 0.11670000000000004, 'x1/x6': 0.17684499999999995}\n"
          ],
          "name": "stdout"
        }
      ]
    },
    {
      "metadata": {
        "id": "_YfNotxgK9Hu",
        "colab_type": "code",
        "colab": {}
      },
      "cell_type": "code",
      "source": [
        ""
      ],
      "execution_count": 0,
      "outputs": []
    },
    {
      "metadata": {
        "id": "y8DTRBXcLEMO",
        "colab_type": "code",
        "outputId": "d5faa52d-0c81-4f54-ea13-e15641d6616f",
        "colab": {
          "base_uri": "https://localhost:8080/",
          "height": 34
        }
      },
      "cell_type": "code",
      "source": [
        "size=50000\n",
        "model1 = BayesianModel()\n",
        "#parent then child\n",
        "G1 = ['x4 ,x6', 'x6 ,x3', 'x6 ,x2']\n",
        "\n",
        "for i in G1:\n",
        "    #print(e[0:2],e[4:7])\n",
        "    model1.add_edge(i[0:2],i[4:7])\n",
        "\n",
        "\n",
        "x4 = TabularCPD(variable='x4', variable_card=4,values=[[0.715],[0.105],[0.01],[0.17]])\n",
        "\n",
        "x6 = TabularCPD(variable='x6', variable_card=5,values=df6.iloc[10:,], \n",
        "                    evidence=['x4'],\n",
        "                   evidence_card=[4])\n",
        "x2 = TabularCPD(variable='x2', variable_card=5,values=df8.iloc[5:10,], \n",
        "                    evidence=['x6'],\n",
        "                   evidence_card=[5])\n",
        "x3 = TabularCPD(variable='x3', variable_card=3,values=df8.iloc[10:13,], \n",
        "                    evidence=['x6'],\n",
        "                   evidence_card=[5])\n",
        "\n",
        "\n",
        "model1.add_cpds(x4,x6,x3,x2)\n",
        "\n",
        "model1.edges()\n",
        "inference = BayesianModelSampling(model1)\n",
        "sample1 = inference.forward_sample(size, return_type='dataframe')\n",
        "scorer1 = K2Score(sample1)\n",
        "#print(sample)\n",
        "print('Model 1 K2 Score: ' + str(scorer1.score(model1)))"
      ],
      "execution_count": 33,
      "outputs": [
        {
          "output_type": "stream",
          "text": [
            "Model 1 K2 Score: -222072.229299\n"
          ],
          "name": "stdout"
        }
      ]
    },
    {
      "metadata": {
        "id": "DO_GRtZlSJ9r",
        "colab_type": "code",
        "colab": {}
      },
      "cell_type": "code",
      "source": [
        ""
      ],
      "execution_count": 0,
      "outputs": []
    },
    {
      "metadata": {
        "id": "hmrnp6o1jQ_2",
        "colab_type": "code",
        "colab": {}
      },
      "cell_type": "code",
      "source": [
        ""
      ],
      "execution_count": 0,
      "outputs": []
    },
    {
      "metadata": {
        "id": "McdE4GN100w8",
        "colab_type": "code",
        "colab": {}
      },
      "cell_type": "code",
      "source": [
        ""
      ],
      "execution_count": 0,
      "outputs": []
    },
    {
      "metadata": {
        "id": "tre-FQRrjC5S",
        "colab_type": "code",
        "outputId": "855634c4-4f0f-4f0c-ab36-965c91ed4364",
        "colab": {
          "base_uri": "https://localhost:8080/",
          "height": 34
        }
      },
      "cell_type": "code",
      "source": [
        "#add 2 to all values eg x4 is df6\n",
        "\n",
        "model2 = BayesianModel()\n",
        "#parent then child\n",
        "G2 = ['x6 ,x2','x2 ,x5', 'x6 ,x4','x4 ,x1']\n",
        "\n",
        "for i in G2:\n",
        "    model2.add_edge(i[0:2],i[4:7])\n",
        "\n",
        "\n",
        "\n",
        "x6 = TabularCPD(variable='x6', variable_card=5,values=[[0.015],[0.32],[0.14],[0.315],[0.21]])\n",
        "\n",
        "x2 = TabularCPD(variable='x2', variable_card=5,values=df8.iloc[5:10,], \n",
        "                    evidence=['x6'],\n",
        "                   evidence_card=[5])\n",
        "x4 = TabularCPD(variable='x4', variable_card=4,values=df8.iloc[13:17,], \n",
        "                    evidence=['x6'],\n",
        "                   evidence_card=[5])\n",
        "\n",
        "x1 = TabularCPD(variable='x1', variable_card=4,values=df6.iloc[1:5,], \n",
        "                    evidence=['x4'],\n",
        "                   evidence_card=[4])\n",
        "\n",
        "x5 = TabularCPD(variable='x5', variable_card=4,values=df4.iloc[4:8,], \n",
        "                    evidence=['x2'],\n",
        "                   evidence_card=[5])\n",
        "\n",
        "model2.add_cpds(x6,x4,x2,x1,x5)\n",
        "\n",
        "model2.edges()\n",
        "\n",
        "inference = BayesianModelSampling(model2)\n",
        "sample2 = inference.forward_sample(size, return_type='dataframe')\n",
        "scorer2  = K2Score(sample2)\n",
        "\n",
        "print('Model 2 K2 Score: ' + str(scorer2.score(model2)))"
      ],
      "execution_count": 34,
      "outputs": [
        {
          "output_type": "stream",
          "text": [
            "Model 2 K2 Score: -271152.678885\n"
          ],
          "name": "stdout"
        }
      ]
    },
    {
      "metadata": {
        "id": "mhodRZv0SM3-",
        "colab_type": "code",
        "colab": {}
      },
      "cell_type": "code",
      "source": [
        ""
      ],
      "execution_count": 0,
      "outputs": []
    },
    {
      "metadata": {
        "id": "QEmugVKmSNSC",
        "colab_type": "code",
        "colab": {}
      },
      "cell_type": "code",
      "source": [
        ""
      ],
      "execution_count": 0,
      "outputs": []
    },
    {
      "metadata": {
        "id": "_dOWKKK2SN5A",
        "colab_type": "code",
        "outputId": "8f69c21c-908d-43dd-fee0-eb98ea3a3e7f",
        "colab": {
          "base_uri": "https://localhost:8080/",
          "height": 34
        }
      },
      "cell_type": "code",
      "source": [
        "model3 = BayesianModel()\n",
        "#parent then child\n",
        "G3 = ['x1 ,x6', 'x6 ,x3', 'x6 ,x2', 'x3 ,x5']\n",
        "\n",
        "for i in G3:\n",
        "    #print(e[0:2],e[4:7])\n",
        "    model3.add_edge(i[0:2],i[4:7])\n",
        "\n",
        "\n",
        "x1 = TabularCPD(variable='x1', variable_card=4\n",
        "                    ,values=[[0.78],[0.015],[0.055],[0.15]])\n",
        "\n",
        "x6 = TabularCPD(variable='x6', variable_card=5,values=df3.iloc[10:15,], \n",
        "                    evidence=['x1'],\n",
        "                   evidence_card=[4])\n",
        "x2 = TabularCPD(variable='x2', variable_card=5,values=df8.iloc[5:10,], \n",
        "                    evidence=['x6'],\n",
        "                   evidence_card=[5])\n",
        "x3 = TabularCPD(variable='x3', variable_card=3,values=df8.iloc[10:13,], \n",
        "                    evidence=['x6'],\n",
        "                   evidence_card=[5])\n",
        "\n",
        "x5 = TabularCPD(variable='x5', variable_card=4,values=df5.iloc[6:10,], \n",
        "                    evidence=['x3'],\n",
        "                  evidence_card=[3])\n",
        "\n",
        "model3.add_cpds(x1,x6,x3,x2,x5)\n",
        "\n",
        "model3.edges()\n",
        "inference = BayesianModelSampling(model3)\n",
        "sample3 = inference.forward_sample(size, return_type='dataframe')\n",
        "scorer3  = K2Score(sample3)\n",
        "#print(sample)\n",
        "print('Model 3 K2 Score: ' + str(scorer3.score(model3)))"
      ],
      "execution_count": 35,
      "outputs": [
        {
          "output_type": "stream",
          "text": [
            "Model 3 K2 Score: -275753.243498\n"
          ],
          "name": "stdout"
        }
      ]
    },
    {
      "metadata": {
        "id": "aUcd0_2WdYBA",
        "colab_type": "code",
        "colab": {}
      },
      "cell_type": "code",
      "source": [
        ""
      ],
      "execution_count": 0,
      "outputs": []
    },
    {
      "metadata": {
        "id": "6o3I79EsdYVX",
        "colab_type": "code",
        "colab": {}
      },
      "cell_type": "code",
      "source": [
        ""
      ],
      "execution_count": 0,
      "outputs": []
    },
    {
      "metadata": {
        "id": "8zJlHhEYdYhY",
        "colab_type": "code",
        "outputId": "e4b96a40-b9a5-4472-cae9-4446ef9d9046",
        "colab": {
          "base_uri": "https://localhost:8080/",
          "height": 34
        }
      },
      "cell_type": "code",
      "source": [
        "model4 = BayesianModel()\n",
        "#parent then child\n",
        "G4 = ['x1 ,x6','x1 ,x2','x1 ,x4','x2 ,x3','x3 ,x5']\n",
        "\n",
        "for i in G4:\n",
        "    #print(e[0:2],e[4:7])\n",
        "    model4.add_edge(i[0:2],i[4:7])\n",
        "\n",
        "x1 = TabularCPD(variable='x1', variable_card=4\n",
        "                    ,values=[[0.78],[0.015],[0.055],[0.15]])\n",
        "\n",
        "x6 = TabularCPD(variable='x6', variable_card=5,values=df3.iloc[10:15,], \n",
        "                    evidence=['x1'],\n",
        "                   evidence_card=[4])\n",
        "x4 = TabularCPD(variable='x4', variable_card=4,values=df3.iloc[6:10,], \n",
        "                    evidence=['x1'],\n",
        "                   evidence_card=[4])\n",
        "x2 = TabularCPD(variable='x2', variable_card=5,values=df3.iloc[1:6,], \n",
        "                    evidence=['x1'],\n",
        "                   evidence_card=[4])\n",
        "x3 = TabularCPD(variable='x3', variable_card=3,values=df4.iloc[1:4,], \n",
        "                    evidence=['x2'],\n",
        "                   evidence_card=[5])\n",
        "\n",
        "x5 = TabularCPD(variable='x5', variable_card=4,values=df5.iloc[6:10,], \n",
        "                    evidence=['x3'],\n",
        "                  evidence_card=[3])\n",
        "\n",
        "model4.add_cpds(x1,x6,x4,x2,x3,x5)\n",
        "\n",
        "model4.edges()\n",
        "inference = BayesianModelSampling(model4)\n",
        "sample4 = inference.forward_sample(size, return_type='dataframe')\n",
        "scorer4  = K2Score(sample4)\n",
        "#print(sample)\n",
        "print('Model 4 K2 Score: ' + str(scorer4.score(model4)))"
      ],
      "execution_count": 36,
      "outputs": [
        {
          "output_type": "stream",
          "text": [
            "Model 4 K2 Score: -313107.503393\n"
          ],
          "name": "stdout"
        }
      ]
    },
    {
      "metadata": {
        "id": "XM9sVunkhNrM",
        "colab_type": "code",
        "colab": {}
      },
      "cell_type": "code",
      "source": [
        ""
      ],
      "execution_count": 0,
      "outputs": []
    },
    {
      "metadata": {
        "id": "Bf9wza5GhOH_",
        "colab_type": "code",
        "colab": {}
      },
      "cell_type": "code",
      "source": [
        ""
      ],
      "execution_count": 0,
      "outputs": []
    },
    {
      "metadata": {
        "id": "IwqPDRlnhOT-",
        "colab_type": "code",
        "outputId": "b96e341e-a2ec-4a45-eb27-0bafe3167169",
        "colab": {
          "base_uri": "https://localhost:8080/",
          "height": 34
        }
      },
      "cell_type": "code",
      "source": [
        "model5 = BayesianModel()\n",
        "#parent then child\n",
        "G5 = ['x6 ,x2','x6 ,x4','x4 ,x1','x2 ,x5','x5 ,x3']\n",
        "\n",
        "\n",
        "for i in G5:\n",
        "    #print(e[0:2],e[4:7])\n",
        "    model5.add_edge(i[0:2],i[4:7])\n",
        "\n",
        "\n",
        "x6 = TabularCPD(variable='x6', variable_card=5\n",
        "                ,values=[[0.015],[0.32],[0.14],[0.315],[0.21]])\n",
        "\n",
        "x2 = TabularCPD(variable='x2', variable_card=5,values=df8.iloc[5:10,], \n",
        "                    evidence=['x6'],\n",
        "                   evidence_card=[5])\n",
        "\n",
        "x4 = TabularCPD(variable='x4', variable_card=4,values=df8.iloc[13:,], \n",
        "                    evidence=['x6'],\n",
        "                   evidence_card=[5])\n",
        "\n",
        "x1 = TabularCPD(variable='x1', variable_card=4,values=df6.iloc[1:5,], \n",
        "                    evidence=['x4'],\n",
        "                   evidence_card=[4])\n",
        "\n",
        "x5 = TabularCPD(variable='x5', variable_card=4,values=df4.iloc[4:,  ], \n",
        "                    evidence=['x2'],\n",
        "                   evidence_card=[5])\n",
        "\n",
        "x3 = TabularCPD(variable='x3', variable_card=3,values=df7.iloc[6:,], \n",
        "                    evidence=['x5'],\n",
        "                   evidence_card=[4])\n",
        "\n",
        "\n",
        "model5.add_cpds(x2,x4,x6,x1,x5,x3)\n",
        "\n",
        "model5.edges()\n",
        "inference = BayesianModelSampling(model5)\n",
        "sample5 = inference.forward_sample(size, return_type='dataframe')\n",
        "scorer5  = K2Score(sample5)\n",
        "\n",
        "print('Model 5 K2 Score: ' + str(scorer5.score(model5)))"
      ],
      "execution_count": 32,
      "outputs": [
        {
          "output_type": "stream",
          "text": [
            "Model 5 K2 Score: -313985.62665\n"
          ],
          "name": "stdout"
        }
      ]
    },
    {
      "metadata": {
        "id": "mXJSuAZEzlUO",
        "colab_type": "code",
        "colab": {}
      },
      "cell_type": "code",
      "source": [
        ""
      ],
      "execution_count": 0,
      "outputs": []
    },
    {
      "metadata": {
        "id": "MIZEjKMT9w6A",
        "colab_type": "code",
        "colab": {}
      },
      "cell_type": "code",
      "source": [
        ""
      ],
      "execution_count": 0,
      "outputs": []
    },
    {
      "metadata": {
        "id": "N-GHPfy6-teo",
        "colab_type": "code",
        "colab": {}
      },
      "cell_type": "code",
      "source": [
        "#print(sample1)"
      ],
      "execution_count": 0,
      "outputs": []
    },
    {
      "metadata": {
        "id": "sZCAzMk09wpa",
        "colab_type": "code",
        "colab": {
          "base_uri": "https://localhost:8080/",
          "height": 139
        },
        "outputId": "9da50b71-9566-416f-efd3-4d1a6a2be91e"
      },
      "cell_type": "code",
      "source": [
        "x=sample1.groupby([\"x4\", \"x6\", \"x3\", \"x2\"]).size().reset_index(name=\"Count\")\n",
        "x1=float(x['Count'].max())\n",
        "y=float(x['Count'].min())\n",
        "#print(x1,y)\n",
        "size=float(size)\n",
        "\n",
        "maximum=x.iloc[x['Count'].argmax()]\n",
        "minimum=x.iloc[x['Count'].argmin()]\n",
        "#print(maximum,minimum)\n",
        "\n",
        "\n",
        "print('The high probability of th is: {}'.format(round(x1/size,4)))\n",
        "print('The low probablity of th is: {}'.format(round(y/size,4)))"
      ],
      "execution_count": 85,
      "outputs": [
        {
          "output_type": "stream",
          "text": [
            "The high probability of th is: 0.049\n",
            "The low probablity of th is: 0.0001\n"
          ],
          "name": "stdout"
        },
        {
          "output_type": "stream",
          "text": [
            "/usr/local/lib/python2.7/dist-packages/ipykernel_launcher.py:7: FutureWarning: 'argmax' is deprecated. Use 'idxmax' instead. The behavior of 'argmax' will be corrected to return the positional maximum in the future. Use 'series.values.argmax' to get the position of the maximum now.\n",
            "  import sys\n",
            "/usr/local/lib/python2.7/dist-packages/ipykernel_launcher.py:8: FutureWarning: 'argmin' is deprecated. Use 'idxmin' instead. The behavior of 'argmin' will be corrected to return the positional minimum in the future. Use 'series.values.argmin' to get the position of the minimum now.\n",
            "  \n"
          ],
          "name": "stderr"
        }
      ]
    },
    {
      "metadata": {
        "id": "6ZtpS2cUAN5H",
        "colab_type": "code",
        "colab": {}
      },
      "cell_type": "code",
      "source": [
        ""
      ],
      "execution_count": 0,
      "outputs": []
    },
    {
      "metadata": {
        "id": "3LFRGB23zqCf",
        "colab_type": "code",
        "colab": {}
      },
      "cell_type": "code",
      "source": [
        ""
      ],
      "execution_count": 0,
      "outputs": []
    },
    {
      "metadata": {
        "id": "iIhS9sG3zppy",
        "colab_type": "code",
        "colab": {
          "base_uri": "https://localhost:8080/",
          "height": 527
        },
        "outputId": "197b594a-50d8-4f80-901a-f2439a66d35e"
      },
      "cell_type": "code",
      "source": [
        "\n",
        "m = model1.to_markov_model()\n",
        "m.nodes()\n",
        "m.edges()\n",
        "\n",
        "# Finding Model Inference\n",
        "\n",
        "print(\"Bayesian Model Inference\")\n",
        "BayesianInferer = VariableElimination(model1)\n",
        "s1 = time()\n",
        "q1 = BayesianInferer.query(['x2'],evidence={'x6':4})['x2']\n",
        "e1 = time()\n",
        "time1 = e1 - s1\n",
        "print(\"Model Query Time: \"+str(round(time1,6)))\n",
        "print(q1)\n",
        "\n",
        "print(\"Markov Model Inference\")\n",
        "MarkovInferer = VariableElimination(m)\n",
        "s2 = time()\n",
        "q2 = MarkovInferer.query(['x2'],evidence={'x6':4})['x2']\n",
        "e2 = time()\n",
        "time2 = e2 - s2\n",
        "print(\"Model Query Time: \"+ str(round(time2,6)))\n",
        "print(q2)"
      ],
      "execution_count": 54,
      "outputs": [
        {
          "output_type": "stream",
          "text": [
            "Bayesian Model Inference\n",
            "Model Query Time: 0.00624\n",
            "+------+-----------+\n",
            "| x2   |   phi(x2) |\n",
            "+======+===========+\n",
            "| x2_0 |    0.2620 |\n",
            "+------+-----------+\n",
            "| x2_1 |    0.3090 |\n",
            "+------+-----------+\n",
            "| x2_2 |    0.0000 |\n",
            "+------+-----------+\n",
            "| x2_3 |    0.1670 |\n",
            "+------+-----------+\n",
            "| x2_4 |    0.2620 |\n",
            "+------+-----------+\n",
            "Markov Model Inference\n",
            "Model Query Time: 0.005169\n",
            "+------+-----------+\n",
            "| x2   |   phi(x2) |\n",
            "+======+===========+\n",
            "| x2_0 |    0.2620 |\n",
            "+------+-----------+\n",
            "| x2_1 |    0.3090 |\n",
            "+------+-----------+\n",
            "| x2_2 |    0.0000 |\n",
            "+------+-----------+\n",
            "| x2_3 |    0.1670 |\n",
            "+------+-----------+\n",
            "| x2_4 |    0.2620 |\n",
            "+------+-----------+\n"
          ],
          "name": "stdout"
        }
      ]
    },
    {
      "metadata": {
        "id": "uNWIYQBU0M34",
        "colab_type": "code",
        "colab": {}
      },
      "cell_type": "code",
      "source": [
        ""
      ],
      "execution_count": 0,
      "outputs": []
    },
    {
      "metadata": {
        "id": "D-wngHz20MhV",
        "colab_type": "code",
        "colab": {}
      },
      "cell_type": "code",
      "source": [
        ""
      ],
      "execution_count": 0,
      "outputs": []
    },
    {
      "metadata": {
        "id": "1n4_7yOU0MO_",
        "colab_type": "code",
        "colab": {}
      },
      "cell_type": "code",
      "source": [
        ""
      ],
      "execution_count": 0,
      "outputs": []
    },
    {
      "metadata": {
        "id": "HeMZqCkM0MAW",
        "colab_type": "code",
        "colab": {}
      },
      "cell_type": "code",
      "source": [
        ""
      ],
      "execution_count": 0,
      "outputs": []
    },
    {
      "metadata": {
        "id": "ZE4CoSCK0LsA",
        "colab_type": "code",
        "colab": {
          "base_uri": "https://localhost:8080/",
          "height": 71
        },
        "outputId": "9c016253-fa44-41cb-9067-c68bee662187"
      },
      "cell_type": "code",
      "source": [
        "#Task 4\n",
        "data=pd.read_csv('AND-Features(1).csv')\n",
        "df1 = data.iloc[:,2:]\n",
        "#print(df1)\n",
        "\n",
        "hc = HillClimbSearch(df1, scoring_method=K2Score(data))\n",
        "best_model = hc.estimate()\n",
        "print(best_model.edges())\n",
        "\n",
        "k2 = K2Score(df1)\n",
        "print('Model 1 K2 Score: ' + str(k2.score(best_model)))\n"
      ],
      "execution_count": 15,
      "outputs": [
        {
          "output_type": "stream",
          "text": [
            "[('f3', 'f8'), ('f3', 'f9'), ('f3', 'f4'), ('f5', 'f9'), ('f5', 'f3'), ('f9', 'f1'), ('f9', 'f2'), ('f9', 'f4'), ('f9', 'f6'), ('f9', 'f7'), ('f9', 'f8')]\n",
            "Model 1 K2 Score: -9462.70489237\n"
          ],
          "name": "stdout"
        }
      ]
    }
  ]
}