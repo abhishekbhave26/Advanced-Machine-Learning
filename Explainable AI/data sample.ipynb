{
 "cells": [
  {
   "cell_type": "code",
   "execution_count": null,
   "metadata": {},
   "outputs": [],
   "source": [
    "!pip install cv2\n",
    "from PIL import Image\n",
    "import glob\n",
    "import cv2\n",
    "image_list = []\n",
    "for filename in glob.glob('C:/Users/abhis/Desktop/us/Courses/AML 674/P2/AND_images/*.png'): #assuming gif\n",
    "    im=cv2.imread(filename)\n",
    "    image_list.append(im)\n",
    "print(image_list)"
   ]
  },
  {
   "cell_type": "code",
   "execution_count": null,
   "metadata": {},
   "outputs": [],
   "source": []
  }
 ],
 "metadata": {
  "kernelspec": {
   "display_name": "Python 3",
   "language": "python",
   "name": "python3"
  },
  "language_info": {
   "codemirror_mode": {
    "name": "ipython",
    "version": 3
   },
   "file_extension": ".py",
   "mimetype": "text/x-python",
   "name": "python",
   "nbconvert_exporter": "python",
   "pygments_lexer": "ipython3",
   "version": "3.7.1"
  }
 },
 "nbformat": 4,
 "nbformat_minor": 2
}
