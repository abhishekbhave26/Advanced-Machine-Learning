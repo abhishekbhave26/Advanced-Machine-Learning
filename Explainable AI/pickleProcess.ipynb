{
 "cells": [
  {
   "cell_type": "code",
   "execution_count": null,
   "metadata": {},
   "outputs": [],
   "source": [
    "def process(dir,):\n",
    "    dir1=dir+'TrainingSet/*.png'\n",
    "    dir2=dir+'ValidationSet/*.png'\n",
    "    image_list1 = []\n",
    "    image_list2 = []\n",
    "    for filename in glob.glob(dir1): #assuming gif\n",
    "        im=cv2.imread(filename)\n",
    "        image_list1.append(filename)\n",
    "        image_list1.append(im)\n",
    "    for filename in glob.glob(dir2): #assuming gif\n",
    "        im=cv2.imread(filename)\n",
    "        image_list2.append(filename)\n",
    "        image_list2.append(im)\n",
    "    #image_list1=np.array(image_list1)\n",
    "    #image_list2=np.array(image_list2)\n",
    "    image_list1=pd.DataFrame(image_list1)\n",
    "    image_list2=pd.DataFrame(image_list2)\n",
    "    \n",
    "    return image_list1,image_list2\n",
    "\n",
    "image_list1,image_list2=process('C:/Users/abhis/Desktop/us/Courses/AML 674/P2/seen-dataset/seen-dataset/')\n",
    "image_list3,image_list4=process('C:/Users/abhis/Desktop/us/Courses/AML 674/P2/unseen-dataset/unseen-dataset/')\n",
    "image_list5,image_list6=process('C:/Users/abhis/Desktop/us/Courses/AML 674/P2/shuffled-dataset/shuffled-dataset/')"
   ]
  },
  {
   "cell_type": "code",
   "execution_count": null,
   "metadata": {},
   "outputs": [],
   "source": [
    "with open('seenTraining.pkl', 'wb') as f:\n",
    "    pickle.dump(image_list1, f)\n",
    "with open('seenValidation.pkl', 'wb') as f:\n",
    "    pickle.dump(image_list2, f)\n",
    "with open('unseenTraining.pkl', 'wb') as f:\n",
    "    pickle.dump(image_list3, f)\n",
    "with open('unseenValidation.pkl', 'wb') as f:\n",
    "    pickle.dump(image_list4, f)\n",
    "with open('shuffleTraining.pkl', 'wb') as f:\n",
    "    pickle.dump(image_list5, f)\n",
    "with open('shuffleValidation.pkl', 'wb') as f:\n",
    "    pickle.dump(image_list6, f)"
   ]
  }
 ],
 "metadata": {
  "kernelspec": {
   "display_name": "Python 3",
   "language": "python",
   "name": "python3"
  },
  "language_info": {
   "codemirror_mode": {
    "name": "ipython",
    "version": 3
   },
   "file_extension": ".py",
   "mimetype": "text/x-python",
   "name": "python",
   "nbconvert_exporter": "python",
   "pygments_lexer": "ipython3",
   "version": "3.6.8"
  }
 },
 "nbformat": 4,
 "nbformat_minor": 2
}
