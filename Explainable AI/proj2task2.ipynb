{
  "nbformat": 4,
  "nbformat_minor": 0,
  "metadata": {
    "colab": {
      "name": "proj2task2.ipynb",
      "version": "0.3.2",
      "provenance": [],
      "collapsed_sections": []
    },
    "kernelspec": {
      "name": "python3",
      "display_name": "Python 3"
    }
  },
  "cells": [
    {
      "metadata": {
        "colab_type": "code",
        "outputId": "f4566826-6ba7-49ba-e7fc-d980ab7afef8",
        "id": "TrBc5OBqDaer",
        "colab": {
          "base_uri": "https://localhost:8080/",
          "height": 272
        }
      },
      "cell_type": "code",
      "source": [
        "!pip install pgmpy\n",
        "!pip install matplotlib==2.2.2"
      ],
      "execution_count": 0,
      "outputs": [
        {
          "output_type": "stream",
          "text": [
            "Requirement already satisfied: pgmpy in /usr/local/lib/python3.6/dist-packages (0.1.7)\n",
            "Requirement already satisfied: networkx<1.12,>=1.11 in /usr/local/lib/python3.6/dist-packages (from pgmpy) (1.11)\n",
            "Requirement already satisfied: scipy>=1.0.0 in /usr/local/lib/python3.6/dist-packages (from pgmpy) (1.1.0)\n",
            "Requirement already satisfied: numpy>=1.14.0 in /usr/local/lib/python3.6/dist-packages (from pgmpy) (1.14.6)\n",
            "Requirement already satisfied: decorator>=3.4.0 in /usr/local/lib/python3.6/dist-packages (from networkx<1.12,>=1.11->pgmpy) (4.4.0)\n",
            "Requirement already satisfied: matplotlib==2.2.2 in /usr/local/lib/python3.6/dist-packages (2.2.2)\n",
            "Requirement already satisfied: python-dateutil>=2.1 in /usr/local/lib/python3.6/dist-packages (from matplotlib==2.2.2) (2.5.3)\n",
            "Requirement already satisfied: cycler>=0.10 in /usr/local/lib/python3.6/dist-packages (from matplotlib==2.2.2) (0.10.0)\n",
            "Requirement already satisfied: pytz in /usr/local/lib/python3.6/dist-packages (from matplotlib==2.2.2) (2018.9)\n",
            "Requirement already satisfied: numpy>=1.7.1 in /usr/local/lib/python3.6/dist-packages (from matplotlib==2.2.2) (1.14.6)\n",
            "Requirement already satisfied: six>=1.10 in /usr/local/lib/python3.6/dist-packages (from matplotlib==2.2.2) (1.11.0)\n",
            "Requirement already satisfied: kiwisolver>=1.0.1 in /usr/local/lib/python3.6/dist-packages (from matplotlib==2.2.2) (1.0.1)\n",
            "Requirement already satisfied: pyparsing!=2.0.4,!=2.1.2,!=2.1.6,>=2.0.1 in /usr/local/lib/python3.6/dist-packages (from matplotlib==2.2.2) (2.3.1)\n",
            "Requirement already satisfied: setuptools in /usr/local/lib/python3.6/dist-packages (from kiwisolver>=1.0.1->matplotlib==2.2.2) (40.9.0)\n"
          ],
          "name": "stdout"
        }
      ]
    },
    {
      "metadata": {
        "colab_type": "code",
        "id": "UvYAnlV0Daeo",
        "colab": {}
      },
      "cell_type": "code",
      "source": [
        "import numpy as np\n",
        "from pgmpy.factors.discrete import DiscreteFactor\n",
        "from pgmpy.factors import FactorSet\n",
        "import pandas as pd\n",
        "import csv\n",
        "import re\n",
        "import time\n",
        "from time import time\n",
        "import matplotlib.pyplot as plt\n",
        "import timeit\n",
        "from pgmpy.models import BayesianModel\n",
        "from pgmpy.factors.discrete import TabularCPD\n",
        "from collections import defaultdict\n",
        "import networkx as nx\n",
        "from pgmpy.inference import VariableElimination\n",
        "from pgmpy.estimators import ExhaustiveSearch\n",
        "from pgmpy.estimators import HillClimbSearch\n",
        "from pgmpy.sampling import BayesianModelSampling\n",
        "from pgmpy.estimators import K2Score\n",
        "from sklearn.metrics import accuracy_score\n",
        "%matplotlib inline\n"
      ],
      "execution_count": 0,
      "outputs": []
    },
    {
      "metadata": {
        "colab_type": "code",
        "id": "FG6vDbnwDael",
        "colab": {}
      },
      "cell_type": "code",
      "source": [
        ""
      ],
      "execution_count": 0,
      "outputs": []
    },
    {
      "metadata": {
        "colab_type": "code",
        "outputId": "0d11e523-cf71-4ff2-d0eb-03be1a74fe0d",
        "id": "4_weSvkLDaef",
        "colab": {
          "base_uri": "https://localhost:8080/",
          "height": 70
        }
      },
      "cell_type": "code",
      "source": [
        "# For 9 features\n",
        "data=pd.read_csv('AND_features.csv')\n",
        "df1 = data.iloc[:,2:]\n",
        "#print(df1)\n",
        "\n",
        "hc = HillClimbSearch(df1, scoring_method=K2Score(data))\n",
        "best_model = hc.estimate()\n",
        "print(best_model.edges())\n",
        "\n",
        "k2 = K2Score(df1)\n",
        "print('For 9 features dataset K2 Score: ' + str(k2.score(best_model)))\n"
      ],
      "execution_count": 0,
      "outputs": [
        {
          "output_type": "stream",
          "text": [
            "[('f3', 'f4'), ('f3', 'f9'), ('f3', 'f8'), ('f5', 'f9'), ('f5', 'f3'), ('f9', 'f8'), ('f9', 'f7'), ('f9', 'f1'), ('f9', 'f6'), ('f9', 'f2'), ('f9', 'f4')]\n",
            "For 9 features dataset K2 Score: -9462.704892371388\n"
          ],
          "name": "stdout"
        }
      ]
    },
    {
      "metadata": {
        "colab_type": "code",
        "id": "S1kGCURbDaed",
        "colab": {}
      },
      "cell_type": "code",
      "source": [
        ""
      ],
      "execution_count": 0,
      "outputs": []
    },
    {
      "metadata": {
        "colab_type": "code",
        "id": "jr-5oc7FDaeZ",
        "colab": {}
      },
      "cell_type": "code",
      "source": [
        ""
      ],
      "execution_count": 0,
      "outputs": []
    },
    {
      "metadata": {
        "colab_type": "code",
        "id": "GNSSRNHUDaeV",
        "colab": {}
      },
      "cell_type": "code",
      "source": [
        ""
      ],
      "execution_count": 0,
      "outputs": []
    },
    {
      "metadata": {
        "colab_type": "code",
        "outputId": "237e476f-181d-481d-df97-e5bc37640db9",
        "id": "fdnxA4VLDaeL",
        "colab": {
          "base_uri": "https://localhost:8080/",
          "height": 87
        }
      },
      "cell_type": "code",
      "source": [
        "# For 15 features\n",
        "\n",
        "start = timeit.default_timer()\n",
        "data2=pd.read_csv('15features.csv')\n",
        "df2 = data2.iloc[:,1:]\n",
        "\n",
        "hc2 = HillClimbSearch(df2, scoring_method=K2Score(df2))\n",
        "best_model2 = hc2.estimate()\n",
        "print(best_model2.edges())\n",
        "\n",
        "k2 = K2Score(df2)\n",
        "print('For 15 features dataset Model 1 K2 Score: ' + str(k2.score(best_model2)))\n",
        "\n",
        "stop = timeit.default_timer()\n",
        "print('Model Creation Time: ', stop - start)  \n"
      ],
      "execution_count": 0,
      "outputs": [
        {
          "output_type": "stream",
          "text": [
            "[('pen_pressure', 'is_lowercase'), ('pen_pressure', 'letter_spacing'), ('size', 'slantness'), ('size', 'pen_pressure'), ('size', 'staff_of_d'), ('size', 'letter_spacing'), ('size', 'exit_stroke_d'), ('size', 'entry_stroke_a'), ('dimension', 'size'), ('dimension', 'is_continuous'), ('dimension', 'slantness'), ('dimension', 'pen_pressure'), ('is_lowercase', 'staff_of_a'), ('is_lowercase', 'exit_stroke_d'), ('is_continuous', 'exit_stroke_d'), ('is_continuous', 'letter_spacing'), ('is_continuous', 'entry_stroke_a'), ('is_continuous', 'staff_of_a'), ('is_continuous', 'is_lowercase'), ('slantness', 'is_continuous'), ('slantness', 'tilt'), ('entry_stroke_a', 'pen_pressure'), ('formation_n', 'constancy'), ('formation_n', 'word_formation'), ('formation_n', 'dimension'), ('formation_n', 'staff_of_d'), ('formation_n', 'is_continuous'), ('formation_n', 'size'), ('formation_n', 'staff_of_a'), ('staff_of_d', 'is_continuous'), ('staff_of_d', 'exit_stroke_d'), ('staff_of_d', 'is_lowercase'), ('staff_of_d', 'slantness'), ('staff_of_d', 'entry_stroke_a'), ('word_formation', 'dimension'), ('word_formation', 'staff_of_a'), ('word_formation', 'size'), ('word_formation', 'staff_of_d'), ('word_formation', 'constancy'), ('constancy', 'staff_of_a'), ('constancy', 'letter_spacing'), ('constancy', 'dimension')]\n",
            "For 15 features dataset Model 1 K2 Score: -139940.6025016286\n",
            "Model Creation Time:  166.50000557600015\n"
          ],
          "name": "stdout"
        }
      ]
    },
    {
      "metadata": {
        "colab_type": "code",
        "id": "PcqXFlj4DaeE",
        "colab": {}
      },
      "cell_type": "code",
      "source": [
        "# Graphically displaying the best model \n",
        "#nx.draw(best_model2,with_labels=True)\n",
        "#plt.savefig(\"path.png\")"
      ],
      "execution_count": 0,
      "outputs": []
    },
    {
      "metadata": {
        "colab_type": "code",
        "id": "U89WEliDDad3",
        "colab": {}
      },
      "cell_type": "code",
      "source": [
        ""
      ],
      "execution_count": 0,
      "outputs": []
    },
    {
      "metadata": {
        "colab_type": "code",
        "id": "r5vXFu4FDadw",
        "colab": {}
      },
      "cell_type": "code",
      "source": [
        ""
      ],
      "execution_count": 0,
      "outputs": []
    },
    {
      "metadata": {
        "colab_type": "code",
        "id": "edRuUazHDadn",
        "colab": {}
      },
      "cell_type": "code",
      "source": [
        ""
      ],
      "execution_count": 0,
      "outputs": []
    },
    {
      "metadata": {
        "colab_type": "code",
        "id": "360hm84oDadZ",
        "colab": {}
      },
      "cell_type": "code",
      "source": [
        ""
      ],
      "execution_count": 0,
      "outputs": []
    },
    {
      "metadata": {
        "colab_type": "code",
        "id": "oLC3pEaiDadV",
        "colab": {}
      },
      "cell_type": "code",
      "source": [
        ""
      ],
      "execution_count": 0,
      "outputs": []
    },
    {
      "metadata": {
        "colab_type": "code",
        "outputId": "5f3bfa66-566b-417a-ff55-c7973e2577ef",
        "id": "rnIj2sGjDadK",
        "colab": {
          "base_uri": "https://localhost:8080/",
          "height": 50
        }
      },
      "cell_type": "code",
      "source": [
        "# extra second model created manually\n",
        "modelNew2 = BayesianModel()\n",
        "a=[('pen_pressure', 'entry_stroke_a'), ('pen_pressure', 'letter_spacing'),\n",
        "  ('letter_spacing', 'dimension'), ('letter_spacing', 'size'), ('letter_spacing', 'constancy'), \n",
        "  ('constancy', 'word_formation'),('letter_spacing', 'slantness'), ('slantness', 'tilt'), \n",
        "  ('entry_stroke_a', 'is_continuous'), ('entry_stroke_a', 'staff_of_a'), \n",
        "  ('staff_of_a', 'formation_n'), ('formation_n', 'staff_of_d'), ('staff_of_d', 'exit_stroke_d')]\n",
        "\n",
        "modelNew2.add_edges_from(a)\n",
        "k2 = K2Score(df2)\n",
        "print('For 15 features dataset Extra Model K2 Score: ' + str(k2.score(modelNew2)))\n",
        "#print(len(modelNew2.edges()))\n"
      ],
      "execution_count": 65,
      "outputs": [
        {
          "output_type": "stream",
          "text": [
            "For 15 features dataset Extra Model K2 Score: -151557.75569546266\n",
            "13\n"
          ],
          "name": "stdout"
        }
      ]
    },
    {
      "metadata": {
        "colab_type": "code",
        "id": "XpgHm8bSDadG",
        "colab": {}
      },
      "cell_type": "code",
      "source": [
        "# Graphically displaying the model \n",
        "#nx.draw(modelNew2,with_labels=True)\n",
        "#plt.savefig(\"secondModel.png\")"
      ],
      "execution_count": 0,
      "outputs": []
    },
    {
      "metadata": {
        "colab_type": "code",
        "id": "NPFtDdJ7DadC",
        "colab": {}
      },
      "cell_type": "code",
      "source": [
        ""
      ],
      "execution_count": 0,
      "outputs": []
    },
    {
      "metadata": {
        "colab_type": "code",
        "outputId": "050f9574-7e9f-4663-9798-d944978bd05a",
        "id": "FoQ2C1QyDac0",
        "colab": {
          "base_uri": "https://localhost:8080/",
          "height": 50
        }
      },
      "cell_type": "code",
      "source": [
        "# extra third model created manually\n",
        "modelNew3 = BayesianModel()\n",
        "a = [('pen_pressure', 'letter_spacing'), ('size', 'slantness'), ('size', 'pen_pressure'), \n",
        "         ('size', 'letter_spacing'), ('size', 'exit_stroke_d'), ('size', 'entry_stroke_a'), \n",
        "         ('dimension', 'size'), ('dimension', 'is_continuous'), ('dimension', 'slantness'), ('dimension', 'pen_pressure')\n",
        "         , ('is_lowercase', 'staff_of_a'), ('is_lowercase', 'exit_stroke_d'), ('is_continuous', 'exit_stroke_d'), \n",
        "         ('is_continuous', 'letter_spacing'), ('is_continuous', 'entry_stroke_a'), ('is_continuous', 'staff_of_a'), \n",
        "         ('is_continuous', 'is_lowercase'), ('slantness', 'is_continuous'), ('slantness', 'tilt'), \n",
        "         ('entry_stroke_a', 'pen_pressure'), ('formation_n', 'constancy'), ('formation_n', 'word_formation'), \n",
        "         ('formation_n', 'dimension'), ('formation_n', 'staff_of_d'), ('formation_n', 'is_continuous'), \n",
        "         ('formation_n', 'size'), ('formation_n', 'staff_of_a'), ('staff_of_d', 'is_continuous'), \n",
        "         ('staff_of_d', 'exit_stroke_d'), ('staff_of_d', 'size'), ('staff_of_d', 'slantness'), \n",
        "         ('staff_of_d', 'entry_stroke_a'), ('word_formation', 'dimension'), ('word_formation', 'pen_pressure'), \n",
        "         ('word_formation', 'size'), ('word_formation', 'staff_of_d'), ('word_formation', 'constancy'), \n",
        "         ('constancy', 'staff_of_a'), ('constancy', 'letter_spacing'), ('constancy', 'dimension')]\n",
        "\n",
        "modelNew3.add_edges_from(a)\n",
        "k3 = K2Score(df2)\n",
        "print('For 15 features dataset Extra Model K2 Score: ' + str(k3.score(modelNew3)))\n",
        "#print(len(modelNew3.edges()))\n",
        "\n",
        "\n"
      ],
      "execution_count": 66,
      "outputs": [
        {
          "output_type": "stream",
          "text": [
            "For 15 features dataset Extra Model K2 Score: -140370.61656260677\n",
            "40\n"
          ],
          "name": "stdout"
        }
      ]
    },
    {
      "metadata": {
        "colab_type": "code",
        "id": "S1x2wY7wDact",
        "colab": {}
      },
      "cell_type": "code",
      "source": [
        "# Graphically displaying the model \n",
        "#nx.draw(modelNew3,with_labels=True)\n",
        "#plt.savefig(\"thirdModel.png\")"
      ],
      "execution_count": 0,
      "outputs": []
    },
    {
      "metadata": {
        "colab_type": "code",
        "id": "NVgCQ5C9Dacp",
        "colab": {}
      },
      "cell_type": "code",
      "source": [
        ""
      ],
      "execution_count": 0,
      "outputs": []
    },
    {
      "metadata": {
        "colab_type": "code",
        "id": "gcwJubzjDach",
        "colab": {}
      },
      "cell_type": "code",
      "source": [
        ""
      ],
      "execution_count": 0,
      "outputs": []
    },
    {
      "metadata": {
        "colab_type": "code",
        "outputId": "33d2deee-7acb-46d7-eaf3-bb531ee5411b",
        "id": "RrpKo9QZDacW",
        "colab": {
          "base_uri": "https://localhost:8080/",
          "height": 50
        }
      },
      "cell_type": "code",
      "source": [
        "# extra fourth model created manually\n",
        "modelNew4 = BayesianModel()\n",
        "a = [('pen_pressure', 'letter_spacing'), ('size', 'slantness'),\n",
        " ('size', 'pen_pressure'), ('size', 'staff_of_d'), ('size', 'letter_spacing'), ('size', 'exit_stroke_d'), \n",
        " ('size', 'entry_stroke_a'), ('dimension', 'size'), ('dimension', 'is_continuous'), ('dimension', 'slantness'), \n",
        " ('dimension', 'pen_pressure'), ('is_lowercase', 'staff_of_a'), ('is_lowercase', 'exit_stroke_d'), \n",
        " ('is_continuous', 'exit_stroke_d'), \n",
        " ('is_continuous', 'letter_spacing'), ('is_continuous', 'entry_stroke_a'), ('is_continuous', 'staff_of_a'), \n",
        " ('is_continuous', 'is_lowercase'), \n",
        " ('slantness', 'is_continuous'), ('slantness', 'tilt'), ('entry_stroke_a', 'pen_pressure'), \n",
        " ('formation_n', 'constancy'), ('formation_n', 'word_formation'),\n",
        " ('formation_n', 'dimension'), ('formation_n', 'staff_of_d'), ('formation_n', 'is_continuous'), \n",
        " ('formation_n', 'size'), ('formation_n', 'staff_of_a'), ('staff_of_d', 'is_continuous'), ('staff_of_d', 'exit_stroke_d'), \n",
        " ('word_formation', 'dimension'), ('word_formation', 'size'), ('word_formation', 'staff_of_d'),\n",
        " ('word_formation', 'constancy'), ('constancy', 'staff_of_a'), ('constancy', 'letter_spacing'), \n",
        " ('constancy', 'dimension')]\n",
        "\n",
        "modelNew4.add_edges_from(a)\n",
        "k4 = K2Score(df2)\n",
        "print('For 15 features dataset Extra Model K2 Score: ' + str(k4.score(modelNew4)))\n",
        "#print(len(modelNew4.edges()))\n",
        "\n"
      ],
      "execution_count": 67,
      "outputs": [
        {
          "output_type": "stream",
          "text": [
            "For 15 features dataset Extra Model K2 Score: -140263.62633033236\n",
            "37\n"
          ],
          "name": "stdout"
        }
      ]
    },
    {
      "metadata": {
        "colab_type": "code",
        "id": "BjRXybdKDacS",
        "colab": {}
      },
      "cell_type": "code",
      "source": [
        "# Graphically displaying the model \n",
        "#nx.draw(modelNew4,with_labels=True)\n",
        "#plt.savefig(\"fourthModel.png\")"
      ],
      "execution_count": 0,
      "outputs": []
    },
    {
      "metadata": {
        "colab_type": "code",
        "id": "l1r88rv1DacL",
        "colab": {}
      },
      "cell_type": "code",
      "source": [
        ""
      ],
      "execution_count": 0,
      "outputs": []
    },
    {
      "metadata": {
        "id": "UEICytyHD1l2",
        "colab_type": "code",
        "colab": {}
      },
      "cell_type": "code",
      "source": [
        ""
      ],
      "execution_count": 0,
      "outputs": []
    },
    {
      "metadata": {
        "colab_type": "code",
        "id": "5LUBVie1Dadz",
        "colab": {}
      },
      "cell_type": "code",
      "source": [
        "new=pd.read_csv('dataset_seen_validation_siamese.csv')\n",
        "#new=pd.read_csv('dataset_unseen_validation_siamese.csv')\n",
        "#new=pd.read_csv('dataset_shuffled_validation_siamese.csv')\n",
        "\n",
        "\n",
        "y1 = dict(zip(new.left,new.label))\n",
        "#y2 = dict(zip(new.right,new.label))\n",
        "#print(len(y))\n",
        "#print(y1,y2)\n",
        "latest=new.iloc[:3,]\n",
        "\n",
        "map=data2.set_index('imagename').T.to_dict('list')"
      ],
      "execution_count": 0,
      "outputs": []
    },
    {
      "metadata": {
        "id": "nOScG6p6D6Ii",
        "colab_type": "code",
        "colab": {}
      },
      "cell_type": "code",
      "source": [
        ""
      ],
      "execution_count": 0,
      "outputs": []
    },
    {
      "metadata": {
        "colab_type": "code",
        "id": "PeZmwVdtD6d0",
        "colab": {}
      },
      "cell_type": "code",
      "source": [
        "# Creating model for extra 15 features and getting its edges \n",
        "x=best_model2.edges()\n",
        "featuresDup=[]\n",
        "for i in range(0,len(x)):\n",
        "  a,b=x[i][0],x[i][1]\n",
        "  a=a+'j'\n",
        "  b=b+'j'\n",
        "  y=(a,b)\n",
        "  featuresDup.append(y)\n",
        "New2 = BayesianModel()\n",
        "New2.add_edges_from(featuresDup)\n"
      ],
      "execution_count": 0,
      "outputs": []
    },
    {
      "metadata": {
        "colab_type": "code",
        "id": "T4FlxBiKD6d3",
        "colab": {}
      },
      "cell_type": "code",
      "source": [
        "l=[]\n",
        "\n",
        "for i in range(0,len(new)):\n",
        "  #if(i%10000==0):\n",
        "  #  print(i)\n",
        "  row=[]\n",
        "  x=new.iloc[i:i+1,1:2]\n",
        "  y=new.iloc[i:i+1,2:3]\n",
        "  z=new.iloc[i:i+1,3:4]\n",
        "  a=x.values.T.tolist()\n",
        "  b=y.values.T.tolist()\n",
        "  c=z.values.T.tolist() \n",
        "  if(a[0][0] in map and b[0][0] in map):\n",
        "    row.append(a[0][0])\n",
        "    row.append(b[0][0])\n",
        "    row.append(c[0][0])\n",
        "    row.extend(map[a[0][0]])\n",
        "    row.extend(map[b[0][0]])\n",
        "    l.append(row)\n",
        "  #print(row)\n",
        "\n"
      ],
      "execution_count": 0,
      "outputs": []
    },
    {
      "metadata": {
        "colab_type": "code",
        "id": "KUBn09x4D6d-",
        "colab": {}
      },
      "cell_type": "code",
      "source": [
        "l=pd.DataFrame(l)\n",
        "l.columns =['left', 'right', 'label', 'pen_pressure', 'letter_spacing', 'size', 'dimension', 'is_lowercase', 'is_continuous', 'slantness', 'tilt', 'entry_stroke_a', 'staff_of_a', 'formation_n', 'staff_of_d', 'exit_stroke_d', 'word_formation', 'constancy', 'pen_pressurej', 'letter_spacingj', 'sizej', 'dimensionj', 'is_lowercasej', 'is_continuousj', 'slantnessj', 'tiltj', 'entry_stroke_aj', 'staff_of_aj', 'formation_nj', 'staff_of_dj', 'exit_stroke_dj', 'word_formationj', 'constancyj']\n",
        "l.to_csv('temp.csv')\n",
        "#print(l)"
      ],
      "execution_count": 0,
      "outputs": []
    },
    {
      "metadata": {
        "id": "03Ne1RXVD1ps",
        "colab_type": "code",
        "colab": {}
      },
      "cell_type": "code",
      "source": [
        ""
      ],
      "execution_count": 0,
      "outputs": []
    },
    {
      "metadata": {
        "colab_type": "code",
        "id": "BW0RGwg2DacF",
        "colab": {}
      },
      "cell_type": "code",
      "source": [
        "\n",
        "  "
      ],
      "execution_count": 0,
      "outputs": []
    },
    {
      "metadata": {
        "colab_type": "code",
        "outputId": "4514c445-34a8-45d5-d3cc-1e171ae266a2",
        "id": "Swv15f0cDab-",
        "colab": {
          "base_uri": "https://localhost:8080/",
          "height": 34
        }
      },
      "cell_type": "code",
      "source": [
        "# Making Final Bayesian model with 30 features and 1 label\n",
        "# And then adding edges between node and laabel\n",
        "x=best_model2.edges()\n",
        "y=New2.edges()\n",
        "allEdges=x+y\n",
        "Final = BayesianModel()\n",
        "Final.add_edges_from(x+y)\n",
        "Final.add_edge('constancy','label')\n",
        "Final.add_edge('constancyj','label')\n",
        "Final.add_edge('staff_of_d','label')\n",
        "Final.add_edge('staff_of_dj','label')\n",
        "#print(Final.edges())\n",
        "start = timeit.default_timer()\n",
        "Final.fit(l.iloc[:,2:])\n",
        "stop = timeit.default_timer()\n",
        "print('Fit Training Time: ', stop - start)  \n",
        "#print(len(Final.edges()))\n",
        "\n",
        "#Final.add_edge('sizej','hypothesisNode')\n",
        "#inference = VariableElimination(Final)\n",
        "#phi_query = inference.query(l['label'].values.all(), evidence={'tilt': data2['tilt']})\n",
        "#x=infer.query(['label'], evidence={'pen_pressure':data2['pen_pressure']}) ['label']\n"
      ],
      "execution_count": 83,
      "outputs": [
        {
          "output_type": "stream",
          "text": [
            "Fit Training Time:  0.3787971149995428\n"
          ],
          "name": "stdout"
        }
      ]
    },
    {
      "metadata": {
        "colab_type": "code",
        "id": "h_2xQrO0Dab6",
        "colab": {}
      },
      "cell_type": "code",
      "source": [
        ""
      ],
      "execution_count": 0,
      "outputs": []
    },
    {
      "metadata": {
        "colab_type": "code",
        "id": "-PCqnjkQDab2",
        "colab": {}
      },
      "cell_type": "code",
      "source": [
        "\n"
      ],
      "execution_count": 0,
      "outputs": []
    },
    {
      "metadata": {
        "colab_type": "code",
        "id": "SeqwyacFDabw",
        "colab": {}
      },
      "cell_type": "code",
      "source": [
        "model_copy2=best_model2\n",
        "l=pd.read_csv('temp.csv')\n",
        "labels=l.iloc[:,3:4]\n",
        "#print(len(labels))\n",
        "l.iloc[:,4:]=l.iloc[:,4:]-1\n",
        "#https://pandas.pydata.org/pandas-docs/stable/reference/api/pandas.DataFrame.to_dict.html\n",
        "dataNew=l.iloc[:,4:].to_dict(orient = 'records')\n",
        "#print(dataNew[1])\n"
      ],
      "execution_count": 0,
      "outputs": []
    },
    {
      "metadata": {
        "colab_type": "code",
        "id": "lq0K8d05Dabp",
        "colab": {}
      },
      "cell_type": "code",
      "source": [
        "# All Queries\n",
        "allQuerys = []\n",
        "start = timeit.default_timer()\n",
        "inference = VariableElimination(Final)\n",
        "for i in range(0,len(dataNew)):\n",
        "  query=inference.map_query(['label'],evidence=dataNew[i])\n",
        "  allQuerys.append(query)\n",
        "  if(i%1000==0):\n",
        "    print(i)\n",
        "stop = timeit.default_timer()\n",
        "print('Query Time: ', stop - start)  \n",
        "#print(allQuerys)\n"
      ],
      "execution_count": 0,
      "outputs": []
    },
    {
      "metadata": {
        "colab_type": "code",
        "id": "WDW0LWqKDabk",
        "colab": {}
      },
      "cell_type": "code",
      "source": [
        ""
      ],
      "execution_count": 0,
      "outputs": []
    },
    {
      "metadata": {
        "colab_type": "code",
        "id": "K-WwSj4YDabY",
        "colab": {}
      },
      "cell_type": "code",
      "source": [
        "# Get accuracy\n",
        "accu,count=0,0\n",
        "for i in range(0,len(allQuerys)):\n",
        "  count+=1\n",
        "  x=allQuerys[i]\n",
        "  a=x['label']\n",
        "  b=labels.iloc[i:i+1,].values.T.tolist()[0][0]\n",
        "  if(a==b):\n",
        "    accu+=1\n",
        "print(\"Accuracy is: {} %\".format((accu*100)/count))\n",
        "  "
      ],
      "execution_count": 0,
      "outputs": []
    },
    {
      "metadata": {
        "colab_type": "code",
        "id": "t-Vl_bg3DabJ",
        "colab": {}
      },
      "cell_type": "code",
      "source": [
        ""
      ],
      "execution_count": 0,
      "outputs": []
    },
    {
      "metadata": {
        "colab_type": "code",
        "id": "VOa3jr_ADabC",
        "colab": {}
      },
      "cell_type": "code",
      "source": [
        ""
      ],
      "execution_count": 0,
      "outputs": []
    },
    {
      "metadata": {
        "colab_type": "code",
        "id": "TZPH0PIiDaa7",
        "colab": {}
      },
      "cell_type": "code",
      "source": [
        "# Tried exhaustive search\n",
        "# Does not work\n",
        "new=df1.iloc[:,:4]\n",
        "#print(new)\n",
        "s = ExhaustiveSearch(pd.DataFrame(new))\n",
        "x=list(s.all_dags())\n",
        "y=[dag.edges() for dag in x]\n",
        "print(y)"
      ],
      "execution_count": 0,
      "outputs": []
    }
  ]
}